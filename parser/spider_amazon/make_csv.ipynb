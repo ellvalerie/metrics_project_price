{
 "cells": [
  {
   "cell_type": "code",
   "execution_count": 10,
   "metadata": {},
   "outputs": [],
   "source": [
    "import json\n",
    "import pandas as pd\n",
    "\n",
    "def json_to_csv(json_file_path, csv_file_path):\n",
    "    \"\"\"\n",
    "    Преобразует JSON файл в CSV\n",
    "    \n",
    "    Args:\n",
    "        json_file_path: путь к входному JSON файлу\n",
    "        csv_file_path: путь для сохранения CSV файла\n",
    "    \"\"\"\n",
    "    \n",
    "    # Создаем пустой список для хранения данных\n",
    "    data = []\n",
    "    \n",
    "    # Открываем JSON файл\n",
    "    with open(json_file_path, 'r', encoding='utf-8') as f:\n",
    "        # Читаем файл построчно\n",
    "        for line in f:\n",
    "            try:\n",
    "                # Преобразуем строку в словарь\n",
    "                item = json.loads(line)\n",
    "                # Добавляем словарь в список\n",
    "                data.append(item)\n",
    "            except json.JSONDecodeError as e:\n",
    "                print(f\"Ошибка при парсинге строки: {line}\\nОшибка: {e}\")\n",
    "    \n",
    "    # Создаем DataFrame из списка словарей\n",
    "    df = pd.DataFrame(data)\n",
    "    \n",
    "    # Сохраняем в CSV\n",
    "    df.to_csv(csv_file_path, index=False)\n",
    "\n",
    "# Пример использования:\n",
    "json_to_csv('items.json', 'csv_files/items.csv')\n"
   ]
  },
  {
   "cell_type": "code",
   "execution_count": 1,
   "metadata": {},
   "outputs": [],
   "source": [
    "import json\n",
    "import pandas as pd\n",
    "\n",
    "with open(\"items_renewed.json\") as file:\n",
    "    data = json.load(file)\n",
    "df = pd.DataFrame(data)\n",
    "df.to_csv('../../csv_files/items_renewed.csv', index=False)"
   ]
  }
 ],
 "metadata": {
  "kernelspec": {
   "display_name": "Python 3",
   "language": "python",
   "name": "python3"
  },
  "language_info": {
   "codemirror_mode": {
    "name": "ipython",
    "version": 3
   },
   "file_extension": ".py",
   "mimetype": "text/x-python",
   "name": "python",
   "nbconvert_exporter": "python",
   "pygments_lexer": "ipython3",
   "version": "3.9.6"
  }
 },
 "nbformat": 4,
 "nbformat_minor": 2
}
